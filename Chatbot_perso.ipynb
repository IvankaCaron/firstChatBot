{
 "cells": [
  {
   "cell_type": "markdown",
   "metadata": {},
   "source": [
    "## Chatbot perso\n",
    "\n",
    "Faites un chatbot qui :  \n",
    "- Répond à l'utilisateur si celui-ci le salue  \n",
    "- Répond à l'utilisateur si celui-ci lui demande comment il va  \n",
    "- Donne son nom si l'utilisateur lui demande  \n",
    "- Donne son âge si l'utilisateur lui demande  \n",
    "- Donne sa chanson préférée si l'utilisateur lui demande  \n",
    "- Dit où il vit si l'utilisateur lui demande  \n",
    "- Dit ce qu'il fait dans la vie si l'utilisateur lui demande  \n",
    "- Ferme quand l'utilisateur lui dit au revoir  \n",
    "- ... donne d'autres informations qui vous semblent intéressantes?\n",
    "\n",
    "Pensez à varier à chaque fois les réponses pour le rendre plus \"réel\". N'oubliez pas de proposer une ou plusieurs réponses types dans le cas où l'utilisateur rentre une question non comprise par le chatbot! \n",
    "\n",
    "__Rappel__ : Vous pouvez coder le chatbot vous même en utilisant la librairie `re` pour traiter les expressions régulières et la librairie `random` pour choisir une réponse au hasard parmi plusieurs possibilités. Cette option est plus \"souple\" et vous permet d'avoir plus la main sur l'ensemble des paramètres.  \n",
    "Si vous ne vous sentez pas assez à l'aise, vous pouvez utiliser la fonction `Chat` de `nltk.chat.util` sur le modèle de ce que je vous ai présenté. "
   ]
  },
  {
   "cell_type": "code",
   "execution_count": 3,
   "metadata": {},
   "outputs": [],
   "source": [
    "import re\n",
    "import random\n",
    "import string"
   ]
  },
  {
   "cell_type": "code",
   "execution_count": 58,
   "metadata": {},
   "outputs": [],
   "source": [
    "# Fonction nettoyage input user\n",
    "def input_cleaner(text_user):\n",
    "    text_user = text_user.lower()\n",
    "    text_user = re.sub(r'[éèê]','e',text_user)\n",
    "    text_user = re.sub(r'[ù]','u',text_user)\n",
    "    text_user = re.sub(r'[àâ]','a',text_user)\n",
    "    text_user = re.sub(r'[ç]','c',text_user)\n",
    "    return text_user"
   ]
  },
  {
   "cell_type": "code",
   "execution_count": null,
   "metadata": {},
   "outputs": [
    {
     "name": "stdout",
     "output_type": "stream",
     "text": [
      "Bienvenue. Je suis un bot tout basique et j'aime repondre aux questions personelles ! \n",
      "\n",
      "(pour quitter : Dites moi au revoir.)\n",
      "Toi : > meteo a toulouse ?\n",
      "Il fait beau à toulouse\n"
     ]
    }
   ],
   "source": [
    "goodBy = r\"au revoir.*|dovidenia.*|bye.*|à \\+|q\"\n",
    "msg_goodBy = [\"A très vite !\", \"Repose toi bien et à très vite !\", \"Au revoir !\", \"Dovidenia\"]\n",
    "\n",
    "salut = r\"salut !|salut.*|hi.*|bonjour.*|re.*\"\n",
    "msg_salut = [\"Salut toi !\", \"Salut, ravie de te voir ici !\", \"Bonjour, contente de te voir ici !\"]\n",
    "\n",
    "ca_va = r\"comment vas.*tu|ca.*va.*|quoi de neuf.*|ako sa mas.*\"\n",
    "msg_ca_va = [\"Super\", \"ca va\", \"très bien, merci\", \"velmi dobre(tres bien)\"]\n",
    "\n",
    "nom = r\"quel est ton nom.*|comment tu t'appelles.*|tu t'appelles comment.*|.*ton nom\\??\"\n",
    "msg_nom = [\"Ivanka Bot\", \"BotIvanka\"]\n",
    "\n",
    "age = r\".*?ton age.*|.*?quel age.*?\"\n",
    "msg_age = [\"39 ans\"]\n",
    "\n",
    "musique = r\".*(aime.*?|prefere.*?)?.*(music|musique|chansons?|albums?|titres?).*(aime.*?|prefere.*?)?\"\n",
    "msg_musique = [\"J'aime l'année 80\", \"Ma chanson preferé est Poupé de cire de france gall :-D https://www.youtube.com/watch?v=s5aeeSmkPwQ\"]\n",
    "\n",
    "habite = r\"(.*?(tu|t'|vous).*?habite.*?ou.*?)|(.*?ou habite.*?(tu|vous).*?)\"\n",
    "msg_habite =[\"Aux Pays-Basque\", \"Euskal Herria\" ]\n",
    "\n",
    "emploi = r\"(.*?(tu|vous) (fais|fait|faites) quoi.*?)|quel est ton job.*\"\n",
    "msg_emploi = [\"Je suis en formation Développeuse Data IA\"]\n",
    "\n",
    "meteo = r\"quel temps fait-il a .*?|.*meteo a .*?\"\n",
    "\n",
    "msg_inconnu = [\"Posez une autre question\", \"je ne comprends pas\"]\n",
    "\n",
    "\n",
    "\n",
    "\n",
    "\n",
    "\n",
    "flag = True\n",
    "print(\"\"\"Bienvenue. Je suis un bot tout basique et j'aime repondre aux questions personelles ! \\n\n",
    "(pour quitter : Dites moi au revoir.)\"\"\")\n",
    "while (flag == True):\n",
    "    text_user = input(\"Toi : > \")\n",
    "    text_user = input_cleaner(text_user)\n",
    "    if (re.fullmatch(goodBy, text_user)):\n",
    "        print(random.choice(msg_goodBy))\n",
    "        flag = False\n",
    "    #Répond à l'utilisateur si celui-ci le salue     \n",
    "    elif (re.fullmatch(salut, text_user)):\n",
    "        print(random.choice(msg_salut))\n",
    "    #Répond à l'utilisateur si celui-ci lui demande comment il va\n",
    "    elif (re.fullmatch(ca_va, text_user)):\n",
    "        print(random.choice(msg_ca_va))\n",
    "    #Donne son nom si l'utilisateur lui demande     \n",
    "    elif (re.fullmatch(nom, text_user)):\n",
    "        print(random.choice(msg_nom))\n",
    "    #Donne son âge si l'utilisateur lui demande \n",
    "    elif (re.fullmatch(age, text_user)):\n",
    "        print(random.choice(msg_age))\n",
    "    #Donne sa chanson préférée si l'utilisateur lui demande\n",
    "    elif (re.fullmatch(musique, text_user)):\n",
    "        print(random.choice(msg_musique))\n",
    "    #Dit où il vit si l'utilisateur lui demande\n",
    "    elif (re.fullmatch(habite, text_user)):\n",
    "        print(random.choice(msg_habite))\n",
    "    #Dit ce qu'il fait dans la vie si l'utilisateur lui demande\n",
    "    elif (re.fullmatch(emploi, text_user)):\n",
    "        print(random.choice(msg_emploi))\n",
    "    elif (re.search(meteo, text_user)):\n",
    "        text_user = re.sub(f\"[{string.punctuation}]\", \" \", text_user)\n",
    "        print(f\"Il fait beau à {text_user.split()[-1]}\")\n",
    "    else:\n",
    "        print(random.choice(msg_inconnu))\n",
    "\n",
    "    \n",
    "    "
   ]
  },
  {
   "cell_type": "code",
   "execution_count": null,
   "metadata": {},
   "outputs": [],
   "source": []
  },
  {
   "cell_type": "code",
   "execution_count": null,
   "metadata": {},
   "outputs": [],
   "source": []
  }
 ],
 "metadata": {
  "kernelspec": {
   "display_name": "Python 3",
   "language": "python",
   "name": "python3"
  },
  "language_info": {
   "codemirror_mode": {
    "name": "ipython",
    "version": 3
   },
   "file_extension": ".py",
   "mimetype": "text/x-python",
   "name": "python",
   "nbconvert_exporter": "python",
   "pygments_lexer": "ipython3",
   "version": "3.7.6"
  }
 },
 "nbformat": 4,
 "nbformat_minor": 2
}
